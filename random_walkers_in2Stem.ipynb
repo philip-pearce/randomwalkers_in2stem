{
  "cells": [
    {
      "cell_type": "markdown",
      "metadata": {
        "id": "view-in-github",
        "colab_type": "text"
      },
      "source": [
        "<a href=\"https://colab.research.google.com/github/philip-pearce/randomwalkers_in2stem/blob/main/random_walkers_in2Stem.ipynb\" target=\"_parent\"><img src=\"https://colab.research.google.com/assets/colab-badge.svg\" alt=\"Open In Colab\"/></a>"
      ]
    },
    {
      "cell_type": "markdown",
      "source": [
        "# **Random walkers**\n",
        "\n",
        "# **Background**\n",
        "\n",
        "Consider the motion of particles along one axis. The particles start at\n",
        "time $t=0$ at position $x=0$ and execute a random walk according to the\n",
        "following rules:\n",
        "\n",
        "*   Each particle steps to the right or the left once every $\\tau$ seconds, moving a distance $dx_i=\\pm \\delta$.\n",
        "*   The probability of going to the right at each step is 1/2, and the\n",
        "probability of going to the left is 1/2, independently of the previous history.\n",
        "*   Each particle moves independently of all the other particles,\n",
        "i.e. the particles do not interact with one another.\n",
        "*   Particle moves do not depend on the history.\n",
        "\n",
        "In the code below, we learn how to simulate random walkers. First we need to know how to do certain things in Python."
      ],
      "metadata": {
        "id": "vUsHjBtf8Z3t"
      }
    },
    {
      "cell_type": "markdown",
      "source": [
        "**Movement of a single walker**\n",
        "\n",
        "To simulate the movement of a single walker, we will use a *for loop* to move forward through time. These *for loops* allow us to repeat a loop a certain number of times. For example, if we want a loop that prints the integers from 1 to 10 we can use:\n"
      ],
      "metadata": {
        "id": "KAKnD-0C-cL-"
      }
    },
    {
      "cell_type": "code",
      "source": [
        "for i in range(1,11):\n",
        "  print(i)"
      ],
      "metadata": {
        "id": "6Hr8TrakZeeF"
      },
      "execution_count": null,
      "outputs": []
    },
    {
      "cell_type": "markdown",
      "source": [
        "For each step taken by the walkers, we also need to be able to choose randomly from the available steps: right or left, each with probability 1/2. We can do this using the random.choice function from the numpy package. Try running the code below multiple times, or adding to the list of possible choices:"
      ],
      "metadata": {
        "id": "Uimds_WcZwdd"
      }
    },
    {
      "cell_type": "code",
      "source": [
        "import numpy as np\n",
        "step = np.random.choice([-1,1])\n",
        "print(step)"
      ],
      "metadata": {
        "id": "o3jY17XnaYxT"
      },
      "execution_count": null,
      "outputs": []
    },
    {
      "cell_type": "markdown",
      "source": [
        "Now we are ready to simulate a single random walker. We start by defining the position of the particle, which we choose to be at $x = 0$:"
      ],
      "metadata": {
        "id": "orhXbgr1Zdz2"
      }
    },
    {
      "cell_type": "code",
      "source": [
        "init_position = 0;"
      ],
      "metadata": {
        "id": "taTQcHxvYoW2"
      },
      "execution_count": 69,
      "outputs": []
    },
    {
      "cell_type": "markdown",
      "source": [
        "We will use a vector to store the particle's position at each time step. We will begin by initialising this vector as a vector full of zeros, using the np.zeros function:"
      ],
      "metadata": {
        "id": "5wWdw731bffL"
      }
    },
    {
      "cell_type": "code",
      "source": [
        "#Choose the number of steps we want to simulate\n",
        "num_steps = 10;\n",
        "#Initialise a vector of zeros for the particle's position\n",
        "position = np.zeros(num_steps);\n",
        "#set the initial position (defined above) as the first element of the vector\n",
        "position[0] = init_position;\n",
        "print(position)"
      ],
      "metadata": {
        "colab": {
          "base_uri": "https://localhost:8080/"
        },
        "id": "Gkp5c0bubqBS",
        "outputId": "6fe72926-12cb-49c4-b40f-1af8370adf08"
      },
      "execution_count": 70,
      "outputs": [
        {
          "output_type": "stream",
          "name": "stdout",
          "text": [
            "[0. 0. 0. 0. 0. 0. 0. 0. 0. 0.]\n"
          ]
        }
      ]
    },
    {
      "cell_type": "markdown",
      "source": [
        "Now we step through time using a for loop, with a random step in each iteration. For simplicity we will use $\\tau=1$ for the time between steps, and $\\delta = 1$ for the distance of the steps."
      ],
      "metadata": {
        "id": "hiPfNwdLYtLO"
      }
    },
    {
      "cell_type": "code",
      "source": [
        "for i in range(1,num_steps):\n",
        "  step = np.random.choice([-1,1])\n",
        "  position[i] = position[i-1] + step"
      ],
      "metadata": {
        "id": "Qq8V0q0GbJ_T"
      },
      "execution_count": 71,
      "outputs": []
    },
    {
      "cell_type": "markdown",
      "source": [
        "Finally, we can plot the position of the particle against time:"
      ],
      "metadata": {
        "id": "p7xbUt1Bhd-5"
      }
    },
    {
      "cell_type": "code",
      "source": [
        "import matplotlib.pyplot as plt\n",
        "plt.plot(position);\n",
        "plt.xlabel('Time');\n",
        "plt.ylabel('Distance');"
      ],
      "metadata": {
        "colab": {
          "base_uri": "https://localhost:8080/",
          "height": 449
        },
        "id": "thGu9fN8hgwZ",
        "outputId": "3186c107-47f3-487c-b25b-87fbe2cbc1e7"
      },
      "execution_count": 72,
      "outputs": [
        {
          "output_type": "display_data",
          "data": {
            "text/plain": [
              "<Figure size 640x480 with 1 Axes>"
            ],
            "image/png": "[encoded data removed]"
          },
          "metadata": {}
        }
      ]
    },
    {
      "cell_type": "markdown",
      "source": [
        "This type of random walk can be used to model the movement of cells or animals, the pricing of assets, the profit made by a gambler in a game of chance, and many other processes."
      ],
      "metadata": {
        "id": "sm1pKgL7rIMc"
      }
    },
    {
      "cell_type": "markdown",
      "source": [
        "**Activities**\n",
        "1. Using the coding space below, write a *for loop* to generate a Fibonacci sequence, and plot the result. (For the rules to generate a Fibonacci sequence, see https://www.mathsisfun.com/numbers/fibonacci-sequence.html). Which other sequences can you generate?\n",
        "\n",
        "2. By editing the random walker code above and then running it, simulate the particle for longer, e.g. for 1000 timesteps instead of 10. How many times do you have to run it before your random walk moves a distance of 50 (in the positive direction) from its initial position? Or 100 from its initial position? Have a competition with the person next to you to see who can simulate a particle that moves the furthest. This is like seeing who can make the most money by investing in an asset with a price that fluctuates randomly.\n",
        "\n",
        "3. Edit the code above to change the initial position of the random walk. Imagine the random walk is simulating a game of heads or tails, where you start with a certain amount of money and gain money when a flipped coin lands on heads, or lose money when it lands on tails. Run the code above for 100 coin flips (which corresponds to taking 100 steps). Did you win money or lose money? Did you lose all your money? How much do you need to start with to be reasonably safe from losing all your money? How would you edit the code so that the gambler invests all their money on each flip, instead of investing a fixed amount on each flip?\n",
        "\n",
        "3. Edit the code above to include *drift*, i.e. the particle is more likely to go in one direction than the other. This makes the random walk more applicable to the pricing of certain assets. Or you can imagine playing a game of heads or tails with a loaded coin.\n",
        "\n",
        "4. Combine the codes you've written to generate a sequence that follows a Fibonacci sequence, as well as a random walk; plot your result.\n",
        "\n",
        "5. Run the code below, which simulates 1000 random walkers. See if you can understand how the code was written, and see if you can explore the effect of drift.\n",
        "\n",
        "In probability courses at university, you will learn how to write down equations that can answer the questions above without the need for multiple numerical experiments."
      ],
      "metadata": {
        "id": "n2KIwStDiEA4"
      }
    },
    {
      "cell_type": "markdown",
      "source": [
        "# **Coding space**"
      ],
      "metadata": {
        "id": "FTK5rTUxYo7G"
      }
    },
    {
      "cell_type": "code",
      "source": [],
      "metadata": {
        "id": "hkGPl-zapO8W"
      },
      "execution_count": null,
      "outputs": []
    },
    {
      "cell_type": "markdown",
      "source": [
        "# **Code for multiple random walkers**\n",
        "\n",
        "Here is some code to simulate 1000 random walkers."
      ],
      "metadata": {
        "id": "xv4CcJlP-GQw"
      }
    },
    {
      "cell_type": "code",
      "execution_count": null,
      "metadata": {
        "id": "T_t2mI177dnO"
      },
      "outputs": [],
      "source": [
        "import numpy as np\n",
        "import matplotlib.pyplot as plt\n",
        "import matplotlib.animation as animation\n",
        "import math\n",
        "from IPython import display\n",
        "from time import sleep\n",
        "\n",
        "#set parameters\n",
        "num_particles = 1000;\n",
        "num_timesteps = 20;\n",
        "timestep = 1;\n",
        "starting_position = 0;\n",
        "move_dist = 1;\n",
        "#directions that the particle can move: left or right\n",
        "possible_directions = np.array([-1,1]);\n",
        "\n",
        "#initialise position vector\n",
        "position = np.zeros((num_timesteps,num_particles));\n",
        "for j in range(0,num_particles):\n",
        "  position[0,j] = starting_position;\n",
        "\n",
        "#randomly sample the move direction for all timesteps\n",
        "move_directions = np.random.choice(a = possible_directions,size = [num_timesteps,num_particles])\n",
        "\n",
        "#loop over timepoints for each particle and solve for position based on movement\n",
        "for j in range(0,num_particles):\n",
        "  for i in range(1,num_timesteps):\n",
        "    position[i,j] = position[i-1,j] + move_dist*move_directions[i,j]\n",
        "\n",
        "\n",
        "#Plotting individual trajectories\n",
        "\n",
        "#Plotting histogram\n",
        "bins = np.linspace(-20, 20, 21)\n",
        "fig, ax = plt.subplots()\n",
        "xlimit = [-10,10]\n",
        "ylimit = [0,0.5]\n",
        "\n",
        "#Generate plot and update at each timestep\n",
        "for i in range(1,num_timesteps):\n",
        "  ax.clear()\n",
        "  plt.xlim(xlimit[0], xlimit[1])\n",
        "  plt.ylim(ylimit[0], ylimit[1])\n",
        "  plt.hist(position[i,:],bins,density=True)\n",
        "  title_str = '$t = {:.3f}$'.format(i)\n",
        "  ax.set_title(title_str)\n",
        "  display.display(plt.gcf())\n",
        "  display.clear_output(wait=True)\n",
        "  sleep(0.01)\n"
      ]
    }
  ],
  "metadata": {
    "colab": {
      "provenance": [],
      "authorship_tag": "ABX9TyO6WxF+dCfzoE25g408hXNn",
      "include_colab_link": true
    },
    "kernelspec": {
      "display_name": "Python 3",
      "name": "python3"
    },
    "language_info": {
      "name": "python"
    }
  },
  "nbformat": 4,
  "nbformat_minor": 0
}